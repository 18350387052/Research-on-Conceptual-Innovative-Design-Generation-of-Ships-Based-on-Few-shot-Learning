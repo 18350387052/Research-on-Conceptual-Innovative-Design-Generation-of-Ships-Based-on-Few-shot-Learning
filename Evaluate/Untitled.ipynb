{
 "cells": [
  {
   "cell_type": "code",
   "execution_count": null,
   "id": "91d8d0b6-1b1e-4c21-a240-c0592a8f30cf",
   "metadata": {},
   "outputs": [],
   "source": []
  }
 ],
 "metadata": {
  "kernelspec": {
   "display_name": "",
   "name": ""
  },
  "language_info": {
   "name": ""
  }
 },
 "nbformat": 4,
 "nbformat_minor": 5
}
